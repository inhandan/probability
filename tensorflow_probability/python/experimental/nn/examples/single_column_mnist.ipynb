{
  "cells": [
    {
      "cell_type": "markdown",
      "metadata": {
        "colab_type": "text",
        "id": "DKbZ5kitLyCX"
      },
      "source": [
        "##### Copyright 2020 The TensorFlow Authors.\n",
        "\n",
        "Licensed under the Apache License, Version 2.0 (the \"License\");"
      ]
    },
    {
      "cell_type": "code",
      "execution_count": null,
      "metadata": {
        "colab": {},
        "colab_type": "code",
        "id": "OAnLZy0vL0iF"
      },
      "outputs": [],
      "source": [
        "#@title ##### Licensed under the Apache License, Version 2.0 (the \"License\"); { display-mode: \"form\" }\n",
        "# you may not use this file except in compliance with the License.\n",
        "# You may obtain a copy of the License at\n",
        "#\n",
        "# https://www.apache.org/licenses/LICENSE-2.0\n",
        "#\n",
        "# Unless required by applicable law or agreed to in writing, software\n",
        "# distributed under the License is distributed on an \"AS IS\" BASIS,\n",
        "# WITHOUT WARRANTIES OR CONDITIONS OF ANY KIND, either express or implied.\n",
        "# See the License for the specific language governing permissions and\n",
        "# limitations under the License."
      ]
    },
    {
      "cell_type": "markdown",
      "metadata": {
        "colab_type": "text",
        "id": "RalQobAv2IU4"
      },
      "source": [
        "# Single Column MNIST Classification\n",
        "\n",
        "In this colab, we experiment with classification of the traditional MNIST dataset, but in the presence of multimodal uncertainty.  We accomplish this by degrading the input signal:  Feeding the model only the central column from the input image.  By doing so, we cause certain output labels (e.g. 5, 8, 3) to have inputs which appear nearly identical.  We also demonstrate how to model this data using Variational Inference with mixture distributions for the posterior.  This colab mirrors one of the experiments presented in [1], in which we demonstrate that optimizing a Stratified-IWAE bound on the evidence returns a model which is better able to capture multimodal uncertainty than models which optimize a Stratified-ELBO bound.\n",
        "\n",
        "### References\n",
        "\n",
        "[1] Morningstar et al. (2020):  Automatic Differentiation Variational Inference with Mixtures ([arxiv preprint](https://arxiv.org/abs/2003.01687))\n",
        "\n",
        "\u003ctable class=\"tfo-notebook-buttons\" align=\"left\"\u003e\n",
        "  \u003ctd\u003e\n",
        "    \u003ca target=\"_blank\" href=\"https://colab.research.google.com/github/tensorflow/probability/blob/master/tensorflow_probability/python/experimental/nn/examples/single_column_mnist.ipynb\"\u003e\u003cimg src=\"https://www.tensorflow.org/images/colab_logo_32px.png\" /\u003eRun in Google Colab\u003c/a\u003e\n",
        "  \u003c/td\u003e\n",
        "  \u003ctd\u003e\n",
        "    \u003ca target=\"_blank\" href=\"https://github.com/tensorflow/probability/blob/master/tensorflow_probability/python/experimental/nn/examples/single_column_mnist.ipynb\"\u003e\u003cimg src=\"https://www.tensorflow.org/images/GitHub-Mark-32px.png\" /\u003eView source on GitHub\u003c/a\u003e\n",
        "  \u003c/td\u003e\n",
        "\u003c/table\u003e\n"
      ]
    },
    {
      "cell_type": "code",
      "execution_count": null,
      "metadata": {
        "colab": {},
        "colab_type": "code",
        "id": "QV16_gj7EzIm"
      },
      "outputs": [],
      "source": [
        "import numpy as np\n",
        "import functools\n",
        "import matplotlib.pyplot as plt\n",
        "import seaborn as sns\n",
        "\n",
        "import tensorflow.compat.v2 as tf\n",
        "import tensorflow_probability as tfp\n",
        "import tensorflow_datasets as tfds\n",
        "tf.enable_v2_behavior()\n",
        "\n",
        "from tensorflow_probability.python.experimental import nn as tfn\n",
        "\n",
        "tfb = tfp.bijectors\n",
        "tfd = tfp.distributions"
      ]
    },
    {
      "cell_type": "markdown",
      "metadata": {
        "colab_type": "text",
        "id": "A1Cv8ACng85k"
      },
      "source": [
        "# Getting the data\n"
      ]
    },
    {
      "cell_type": "code",
      "execution_count": null,
      "metadata": {
        "colab": {},
        "colab_type": "code",
        "id": "JFTSraX4E8JM"
      },
      "outputs": [],
      "source": [
        "class Preprocess(object):\n",
        "  def __init__(self, info):\n",
        "    \"\"\"Initialize the preprocessing object.\"\"\"\n",
        "\n",
        "    self.ind = info.features['image'].shape[0] // 2\n",
        "\n",
        "  def __call__(self, inputs):\n",
        "    # Normalize and center the input image\n",
        "    x = 2*tf.cast(inputs['image'][..., self.ind, 0], tf.float32) / 255. -1.\n",
        "    y = tf.cast(inputs['label'], tf.int32)\n",
        "\n",
        "    return x, y"
      ]
    },
    {
      "cell_type": "code",
      "execution_count": null,
      "metadata": {
        "colab": {},
        "colab_type": "code",
        "id": "nw5KYALjIbXw"
      },
      "outputs": [],
      "source": [
        "tf.random.set_seed(42)\n",
        "seedstream = tfp.util.SeedStream(seed=43, salt='siwae')\n",
        "\n",
        "dataset = 'mnist'\n",
        "batch_size = 32\n",
        "num_epochs = 25\n",
        "\n",
        "data, info = tfds.load(dataset, with_info=True)\n",
        "preprocess_fn = Preprocess(info)\n",
        "\n",
        "train_data, eval_data = data['train'], data['test']\n",
        "\n",
        "train_data = tfn.util.tune_dataset(train_data,\n",
        "                                   batch_size=batch_size,\n",
        "                                   shuffle_size=1071,\n",
        "                                   preprocess_fn=preprocess_fn,\n",
        "                                   repeat_count=num_epochs)\n",
        "eval_data = tfn.util.tune_dataset(eval_data,\n",
        "                                  batch_size=500,\n",
        "                                  preprocess_fn=preprocess_fn,\n",
        "                                  repeat_count=None)"
      ]
    },
    {
      "cell_type": "markdown",
      "metadata": {
        "colab_type": "text",
        "id": "8HzYeAqzkgp2"
      },
      "source": [
        "# Visualizing the data\n",
        "\n",
        "Just to demonstrate that this data is _hard_ to classify, lets see what it looks like by showing a batch of data from the training set."
      ]
    },
    {
      "cell_type": "code",
      "execution_count": null,
      "metadata": {
        "colab": {
          "height": 328
        },
        "colab_type": "code",
        "id": "BoxRJqubhP8U",
        "outputId": "7fb927d5-3501-4de1-954d-4fdfb38185bb"
      },
      "outputs": [
        {
          "data": {
            "text/plain": [
              "(0, 112)"
            ]
          },
          "execution_count": 0,
          "metadata": {
            "tags": []
          },
          "output_type": "execute_result"
        },
        {
          "data": {
            "image/png": "[encoded data removed]",
            "text/plain": [
              "\u003cFigure size 1000x500 with 1 Axes\u003e"
            ]
          },
          "metadata": {
            "tags": []
          },
          "output_type": "display_data"
        }
      ],
      "source": [
        "def reshape_image_batch(tensor, cut=None, rows=None, axis=0):\n",
        "  \"\"\"Given an array of shape [n, x, y, ...] reshape it to create an image field.\n",
        "\n",
        "  Arguments:\n",
        "    tensor: The array to reshape.\n",
        "    cut: Optional cut on the number of images to view. Will default to whole\n",
        "      array.\n",
        "    rows: Number of rows to use.  Will default to the integer less than the\n",
        "      sqrt.\n",
        "    axis: Axis to interpretate at the batch dimension.  By default the image\n",
        "      dimensions immediately follow.\n",
        "\n",
        "  Returns:\n",
        "    reshaped_array: An array of shape [rows * x, cut / rows * y, ...]\n",
        "  \"\"\"\n",
        "  original_shape = tensor.get_shape().as_list()\n",
        "  assert len(original_shape) \u003e= 2, 'array must be at least 3 Dimensional.'\n",
        "\n",
        "  if cut is None:\n",
        "    cut = original_shape[axis]\n",
        "  if rows is None:\n",
        "    rows = int(np.sqrt(cut))\n",
        "\n",
        "  cols = cut // rows\n",
        "  cut = cols * rows\n",
        "\n",
        "  leading = original_shape[:axis]\n",
        "  x_width = original_shape[axis + 1]\n",
        "  y_width = original_shape[axis + 2]\n",
        "  remaining = original_shape[axis + 3:]\n",
        "\n",
        "  tensor = tensor[..., :cut, :, :, :]\n",
        "  tensor = tf.reshape(tensor, leading + [rows, cols, x_width, y_width] + remaining)\n",
        "  new_shape = [i for i in range(len(tensor.get_shape().as_list()))]\n",
        "  new_shape[axis + 1] = axis + 2\n",
        "  new_shape[axis + 2] = axis + 1\n",
        "  tensor = tf.transpose(tensor, new_shape)\n",
        "  tensor = tf.reshape(tensor, leading + [rows * x_width, cols * y_width] + remaining)\n",
        "\n",
        "  return tensor\n",
        "\n",
        "x, y = next(iter(train_data))\n",
        "xim = tfb.Pad(paddings=((13, 14),), constant_values=-1.)(x[..., tf.newaxis])\n",
        "plt.figure(figsize=(10, 5))\n",
        "plt.imshow(reshape_image_batch(xim[..., tf.newaxis], rows=4)[:,:,0],cmap='gray')\n",
        "for i in range(8):\n",
        "  plt.axhline(i*28-0.5, color='w')\n",
        "  plt.axvline(i*28-0.5, color='w')\n",
        "plt.xticks([])\n",
        "plt.yticks([])\n",
        "plt.xlim(0, 8*28)\n",
        "plt.ylim(0, 4*28)"
      ]
    },
    {
      "cell_type": "code",
      "execution_count": null,
      "metadata": {
        "colab": {},
        "colab_type": "code",
        "id": "ZlkBTS5wKEyG"
      },
      "outputs": [],
      "source": [
        "class Encoder(tf.Module):\n",
        "  def __init__(self, input_size=28,\n",
        "               num_hidden=128, \n",
        "               encoded_size=2, \n",
        "               nmix=2, \n",
        "               name=None):\n",
        "\n",
        "    super(Encoder, self).__init__(name=name or 'encoder')\n",
        "\n",
        "    self.input_size = input_size\n",
        "    self.nmix=nmix\n",
        "    self.num_hidden=num_hidden\n",
        "    self.encoded_size=encoded_size\n",
        "\n",
        "    # Convenience function\n",
        "    affine = functools.partial(tfn.Affine,\n",
        "                               init_kernel_fn=tf.initializers.he_normal(),\n",
        "                               init_bias_fn = tf.zeros_initializer())\n",
        "\n",
        "    self._dnn = tfn.Sequential([\n",
        "        affine(self.input_size, self.num_hidden), tf.nn.elu,\n",
        "        affine(self.num_hidden, self.num_hidden), tf.nn.elu,\n",
        "        affine(self.num_hidden, self.num_hidden), tf.nn.elu,\n",
        "        affine(self.num_hidden, self.num_hidden),\n",
        "        affine(self.num_hidden, self.num_out)])\n",
        "\n",
        "  def __call__(self, inputs):\n",
        "    outputs = self._dnn(inputs)\n",
        "\n",
        "    loc_bijector = tfb.Reshape([self.nmix, self.encoded_size])\n",
        "    scale_bijector = tfb.FillScaleTriL()(\n",
        "        tfb.Reshape([self.nmix,self.encoded_size*(self.encoded_size+1)//2]))\n",
        "\n",
        "    return tfd.MixtureSameFamily(\n",
        "        tfd.Categorical(outputs[..., :self.nmix]),\n",
        "        tfd.MultivariateNormalTriL(\n",
        "            loc=loc_bijector(\n",
        "                outputs[..., self.nmix:self.nmix*(1+self.encoded_size)]),\n",
        "            scale_tril=scale_bijector(\n",
        "                outputs[..., self.nmix*(1+self.encoded_size):])))\n",
        "\n",
        "  @property\n",
        "  def num_out(self):\n",
        "    return self.nmix*(1 + self.encoded_size +\n",
        "                      self.encoded_size * (self.encoded_size + 1) // 2)\n"
      ]
    },
    {
      "cell_type": "code",
      "execution_count": null,
      "metadata": {
        "colab": {},
        "colab_type": "code",
        "id": "3SdEstSXPQR7"
      },
      "outputs": [],
      "source": [
        "class Decoder(tf.Module):\n",
        "  def __init__(self, encoded_size=2, num_classes=10, name=None):\n",
        "    super(Decoder, self).__init__(name=name or 'decoder')\n",
        "\n",
        "    self.encoded_size = 2\n",
        "    self.num_classes = 10\n",
        "\n",
        "    # Convenience function\n",
        "    affine = functools.partial(tfn.Affine, \n",
        "                               init_kernel_fn=tf.initializers.he_normal(),\n",
        "                               init_bias_fn = tf.zeros_initializer())\n",
        "\n",
        "    # DNN is just an affine transformation for the decoder\n",
        "    self._dnn = affine(self.encoded_size, self.num_classes)\n",
        "\n",
        "  def __call__(self, inputs):\n",
        "    return tfd.Categorical(logits=self._dnn(inputs))"
      ]
    },
    {
      "cell_type": "code",
      "execution_count": null,
      "metadata": {
        "colab": {},
        "colab_type": "code",
        "id": "fgVCUq-nTcIW"
      },
      "outputs": [],
      "source": [
        "class Vae(tf.Module):\n",
        "  def __init__(self, encoder, decoder, prior, nz, beta=1.0, seed=None):\n",
        "    self.encoder = encoder\n",
        "    self.decoder = decoder\n",
        "    self.prior = prior\n",
        "    self.nz = nz\n",
        "    self.beta = beta\n",
        "    self.seed=seed\n",
        "\n",
        "  def __call__(self, x, y):\n",
        "\n",
        "    # Surrogate posterior\n",
        "    pzgx = self.encoder(x)\n",
        "\n",
        "    # Posterior component weights\n",
        "    mix_logits = pzgx.mixture_distribution.logits_parameter()  # [n, k]\n",
        "\n",
        "    # Posterior samples\n",
        "    z = pzgx.components_distribution.sample(self.nz,\n",
        "                                            seed=self.seed)  # [t, n, k, d]\n",
        "\n",
        "    # Likelihood distribution\n",
        "    pygz = self.decoder(z)\n",
        "\n",
        "    # log p(y|z)\n",
        "    lpygz = pygz.log_prob(y[..., tf.newaxis])  # [t, n, k]\n",
        "\n",
        "    # log q(z|x), which requires two annoying transposes\n",
        "    transpose_second_and_third_dims = lambda x: tf.transpose(\n",
        "        x, tf.concat([[0, 2, 1], tf.range(3, tf.rank(x))], axis=0))\n",
        "\n",
        "    lqzgx = transpose_second_and_third_dims(\n",
        "        pzgx.log_prob(transpose_second_and_third_dims(z)))  # [t, n, k]\n",
        "\n",
        "    # log r(z)\n",
        "    lrz = self.prior.log_prob(z)  # [t, n, k]\n",
        "\n",
        "    return lpygz, lqzgx, lrz, mix_logits\n",
        "\n",
        "class Selbo(Vae):\n",
        "  def __call__(self, x, y):\n",
        "\n",
        "    # Get everything you need from the base class\n",
        "    lpygz, lqzgx, lrz, mix_logits = super(Selbo, self).__call__(x, y)\n",
        "    alpha = tf.math.softmax(mix_logits, axis=-1)\n",
        "\n",
        "    # for housekeeping, lets place this in terms of nll and kld\n",
        "    K = tf.cast(tf.shape(alpha)[-1], tf.float32)\n",
        "    nll = -tf.reduce_mean(lpygz * alpha, axis=[0, 1, 2]) * K\n",
        "    kl = tf.reduce_mean((lqzgx - lrz) * alpha, axis=[0, 1, 2]) * K\n",
        "\n",
        "    return nll + beta * kl, (nll, kl)\n",
        "\n",
        "class Siwae(Vae):\n",
        "  def __call__(self, x, y):\n",
        "    # Get everything you need from the base class\n",
        "    lpygz, lqzgx, lrz, mix_logits = super(Siwae, self).__call__(x, y)\n",
        "\n",
        "    # Convert logits into log-probs\n",
        "    log_alpha = tf.math.log_softmax(mix_logits, axis=-1)\n",
        "\n",
        "    # For comparison to SELBO, lets gather the nll and kld\n",
        "    alpha = tf.math.softmax(mix_logits, axis=-1)\n",
        "    K = tf.cast(tf.shape(alpha)[-1], tf.float32)\n",
        "    nll = -tf.reduce_mean(lpygz * alpha, axis=[0, 1, 2]) * K\n",
        "    kl = tf.reduce_mean((lqzgx - lrz) * alpha, axis=[0, 1, 2]) * K\n",
        "\n",
        "    # Importance weights:  shape = [t, n, k]\n",
        "    wts = lpygz + self.beta * (lrz - lqzgx) + log_alpha\n",
        "\n",
        "    # LME over samples, LSE over modes:  shape = [n]\n",
        "    T = tf.cast(tf.shape(wts)[0], tf.float32)\n",
        "    siwae = tf.math.reduce_logsumexp(wts, axis=[0, -1]) - tf.math.log(T)\n",
        "\n",
        "    # SIWAE is average over data:  shape = []\n",
        "    return -tf.math.reduce_mean(siwae, axis=0), (nll, kl)\n"
      ]
    },
    {
      "cell_type": "markdown",
      "metadata": {
        "colab_type": "text",
        "id": "Gm3hq3JnlFjn"
      },
      "source": [
        "# Define the model\n",
        "\n",
        "\n"
      ]
    },
    {
      "cell_type": "code",
      "execution_count": null,
      "metadata": {
        "colab": {},
        "colab_type": "code",
        "id": "Kuj8GG8_WFt_"
      },
      "outputs": [],
      "source": [
        "encoded_size = 2\n",
        "num_hidden = 128\n",
        "nmix = 10\n",
        "nz = 1\n",
        "beta = 0.05\n",
        "lr = 0.001\n",
        "\n",
        "# ---------------------------------------------------------------\n",
        "\n",
        "loss_fn = Selbo(\n",
        "    encoder=Encoder(input_size=info.features['image'].shape[0],\n",
        "                    encoded_size=encoded_size,\n",
        "                    num_hidden=num_hidden,\n",
        "                    nmix=nmix),\n",
        "    decoder=Decoder(encoded_size=encoded_size,\n",
        "                    num_classes=info.features['label'].num_classes),\n",
        "    prior=tfd.MultivariateNormalDiag(loc=tf.zeros(encoded_size),\n",
        "                                     scale_diag=tf.ones(encoded_size)),\n",
        "    nz=nz,\n",
        "    beta=beta,\n",
        "    seed=seedstream)\n",
        "\n",
        "opt = tf.optimizers.Adam(lr)\n",
        "train_op = tfn.util.make_fit_op(\n",
        "    loss_fn=loss_fn, optimizer=opt,\n",
        "    trainable_variables=loss_fn.trainable_variables,\n",
        "    xla_compile=False)  # xla doesn't like this... not sure why"
      ]
    },
    {
      "cell_type": "markdown",
      "metadata": {
        "colab_type": "text",
        "id": "ww92nDQZmNz8"
      },
      "source": [
        "# Train the model"
      ]
    },
    {
      "cell_type": "code",
      "execution_count": null,
      "metadata": {
        "colab": {},
        "colab_type": "code",
        "id": "kNXQyI5PWdie"
      },
      "outputs": [],
      "source": [
        "for i, (x, y) in enumerate(iter(train_data)):\n",
        "  this_loss, (this_nll, this_kl) = train_op(x, y)\n",
        "  if i %5000 == 0:\n",
        "    print(\"iteration %i,  loss:  %.4f,   nll:  %.4f,   kl:  %.4f\"%(\n",
        "        i, this_loss.numpy(), this_nll.numpy(), this_kl.numpy()))"
      ]
    },
    {
      "cell_type": "markdown",
      "metadata": {
        "colab_type": "text",
        "id": "GJNArpbllBo5"
      },
      "source": [
        "# Evaluate the accuracy"
      ]
    },
    {
      "cell_type": "code",
      "execution_count": null,
      "metadata": {
        "colab": {},
        "colab_type": "code",
        "id": "7z0qZpTHdufZ"
      },
      "outputs": [],
      "source": [
        "def evaluate_accuracy(encoder, decoder, dataset, nz=100, seed=None):\n",
        "  \"\"\"Evaluate the accuracy of a model on a dataset.\"\"\"\n",
        "  it = iter(dataset)\n",
        "  hits = 0\n",
        "  trials = 0\n",
        "\n",
        "  for x, y in it:\n",
        "    pzgx = encoder(x)\n",
        "    z = pzgx.sample(nz, seed=seed)\n",
        "    pygz = decoder(z)\n",
        "    # average py over samples / components and get argmax as prediction\n",
        "    avg_log_py = tfp.math.reduce_logmeanexp(\n",
        "        tf.math.log_softmax(pygz.logits_parameter(), axis=-1), axis=0)\n",
        "    yhat = tf.cast(tf.argmax(avg_log_py, axis=-1), tf.int32)\n",
        "    hits += tf.reduce_sum(tf.cast(tf.equal(yhat, y), tf.int32))\n",
        "    trials += tf.size(y)\n",
        "  acc = tf.cast(hits, tf.float32)/tf.cast(trials, tf.float32)\n",
        "  return acc"
      ]
    },
    {
      "cell_type": "code",
      "execution_count": null,
      "metadata": {
        "colab": {},
        "colab_type": "code",
        "id": "CcDC1VGGfwMn"
      },
      "outputs": [],
      "source": [
        "# Evaluate predictive accuracy with 10k samples\n",
        "print(\"accuracy:   %.4f\"%(\n",
        "    evaluate_accuracy(encoder=loss_fn.encoder,\n",
        "                      decoder=loss_fn.decoder,\n",
        "                      dataset=eval_data,\n",
        "                      nz=10000).numpy(),\n",
        "                      seed=seedstream))"
      ]
    },
    {
      "cell_type": "markdown",
      "metadata": {
        "colab_type": "text",
        "id": "QSUZbep9OW6R"
      },
      "source": [
        "# Comparing performance."
      ]
    },
    {
      "cell_type": "code",
      "execution_count": null,
      "metadata": {
        "colab": {
          "height": 306
        },
        "colab_type": "code",
        "id": "-CdO0hStOVe0",
        "outputId": "7ebb5e14-c4fb-40f6-e487-9dada959d353"
      },
      "outputs": [
        {
          "data": {
            "text/plain": [
              "\u003cmatplotlib.legend.Legend at 0x7f7729225a90\u003e"
            ]
          },
          "execution_count": 0,
          "metadata": {
            "tags": []
          },
          "output_type": "execute_result"
        },
        {
          "data": {
            "image/png": "[encoded data removed]",
            "text/plain": [
              "\u003cFigure size 600x400 with 1 Axes\u003e"
            ]
          },
          "metadata": {
            "tags": []
          },
          "output_type": "display_data"
        }
      ],
      "source": [
        "encoded_size = 2\n",
        "num_hidden = 128\n",
        "nz = 1\n",
        "beta = 0.05\n",
        "lr = 0.001\n",
        "\n",
        "K = [1, 2, 5, 10]\n",
        "objectives = [Selbo, Siwae]\n",
        "\n",
        "acc_selbo = []\n",
        "acc_siwae = []\n",
        "\n",
        "for k in K:\n",
        "  for objective in objectives:\n",
        "    # Setup the model\n",
        "    loss_fn = objective(\n",
        "        encoder=Encoder(input_size=info.features['image'].shape[0],\n",
        "                        encoded_size=encoded_size,\n",
        "                        num_hidden=num_hidden,\n",
        "                        nmix=k),\n",
        "        decoder=Decoder(encoded_size=encoded_size,\n",
        "                        num_classes=info.features['label'].num_classes),\n",
        "        prior=tfd.MultivariateNormalDiag(loc=tf.zeros(encoded_size),\n",
        "                                        scale_diag=tf.ones(encoded_size)),\n",
        "        nz=nz,\n",
        "        beta=beta,\n",
        "        seedstream=seedstream)\n",
        "\n",
        "    opt = tf.optimizers.Adam(lr)\n",
        "    train_op = tfn.util.make_fit_op(\n",
        "        loss_fn=loss_fn, optimizer=opt,\n",
        "        trainable_variables=loss_fn.trainable_variables,\n",
        "        xla_compile=False)  # xla doesn't like this... not sure why\n",
        "\n",
        "    # Train the model\n",
        "    for i, (x, y) in enumerate(iter(train_data)):\n",
        "      this_loss, (this_nll, this_kl) = train_op(x, y)\n",
        "\n",
        "    if objective == Selbo:\n",
        "      acc_selbo.append(evaluate_accuracy(\n",
        "          encoder=loss_fn.encoder,\n",
        "          decoder=loss_fn.decoder,\n",
        "          dataset=eval_data,\n",
        "          nz=10000,\n",
        "          seed=seedstream).numpy())\n",
        "    else:\n",
        "      acc_siwae.append(evaluate_accuracy(\n",
        "          encoder=loss_fn.encoder,\n",
        "          decoder=loss_fn.decoder,\n",
        "          dataset=eval_data,\n",
        "          nz=10000,\n",
        "          seed=seedstream).numpy())\n",
        "\n",
        "plt.plot(K, acc_selbo, 'r-', label='Selbo (nz=1)')\n",
        "plt.plot(K, acc_selbo, 'ro')\n",
        "plt.plot(K, acc_siwae, 'b-', label='Siwae (nz=1)')\n",
        "plt.plot(K, acc_siwae, 'bo')\n",
        "plt.xlabel('K', fontsize=16)\n",
        "plt.ylabel('Classification Accuracy', fontsize=16)\n",
        "plt.legend()"
      ]
    }
  ],
  "metadata": {
    "colab": {
      "collapsed_sections": [],
      "last_runtime": {
        "build_target": "//learning/deepmind/public/tools/ml_python:ml_notebook",
        "kind": "private"
      },
      "name": "single_column_mnist.ipynb",
      "provenance": [],
      "toc_visible": true
    },
    "kernelspec": {
      "display_name": "Python 3",
      "name": "python3"
    }
  },
  "nbformat": 4,
  "nbformat_minor": 0
}
